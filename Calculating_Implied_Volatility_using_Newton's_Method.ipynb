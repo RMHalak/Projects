{
  "nbformat": 4,
  "nbformat_minor": 0,
  "metadata": {
    "colab": {
      "provenance": [],
      "toc_visible": true
    },
    "kernelspec": {
      "name": "python3",
      "display_name": "Python 3"
    },
    "language_info": {
      "name": "python"
    }
  },
  "cells": [
    {
      "cell_type": "markdown",
      "source": [
        "# Implied Volatility\n",
        "\n",
        "Implied volatility is a key concept in options trading and is a measure of the market's expectations of the future volatility of the underlying asset's price. It is derived from the market price of an option and reflects the market's consensus about the future price movements of the underlying asset."
      ],
      "metadata": {
        "id": "E1Ltn3MWRN62"
      }
    },
    {
      "cell_type": "markdown",
      "source": [
        "## Basic Concept of Volatility\n",
        "\n",
        "- **Historical Volatility:** This measures the actual past volatility **of the asset**, calculated based on historical price data.\n",
        "- **Implied Volatility (IV):** This represents the market's forecast of a stock's future volatility. Unlike historical volatility, **implied volatility is forward-looking** and is derived from the prices **of options on the asset**."
      ],
      "metadata": {
        "id": "OOvJcZSARVSN"
      }
    },
    {
      "cell_type": "markdown",
      "source": [
        "## Why Implied Volatility is Important\n",
        "\n",
        "- **Market Sentiment:** IV reflects the market's consensus about the future volatility of the asset. High IV indicates that the market expects significant price movements, while low IV suggests relatively stable prices.\n",
        "- **Pricing and Strategy:** Traders use IV to gauge the attractiveness of option prices and to develop trading strategies. For instance, if a trader believes the market's implied volatility is too high or too low relative to their own forecast, they may execute trades to exploit this discrepancy.\n",
        "- **Risk Management:** Understanding IV helps traders manage the risk associated with options positions and to make informed decisions about entering or exiting trades."
      ],
      "metadata": {
        "id": "KbK52aPCR49L"
      }
    },
    {
      "cell_type": "markdown",
      "source": [
        "## Finding Implied Volatility\n",
        "\n",
        "Implied volatility is not directly observable. Instead, it must be inferred from the market price of an option using models like Black-Scholes. This process involves the following steps:\n",
        "\n",
        "1. **Market Price of the Option:** Obtain the current market price of the option.\n",
        "2. **Inputs for Black-Scholes Model:** Gather the necessary inputs (current stock price, strike price, time to expiration, risk-free rate).\n",
        "3. **Iterative Process:** Use numerical methods (like the Newton-Raphson method) to iteratively solve the Black-Scholes model for $ \\sigma $ (implied volatility) that makes the theoretical price equal to the market price ($10)."
      ],
      "metadata": {
        "id": "H0_zZPXFRtMg"
      }
    },
    {
      "cell_type": "markdown",
      "source": [
        "# Newton-Raphson Method\n",
        "\n",
        "Calculating implied volatility can be done using several methods, but the most commonly used method is the Newton-Raphson due to its quadratic convergence properties, which makes it faster than many other root-finding algorithms. However, it requires the function to be differentiable and a good initial guess to ensure convergence.\n"
      ],
      "metadata": {
        "id": "yu9kDhczVbEy"
      }
    },
    {
      "cell_type": "markdown",
      "source": [
        "## Steps of the Newton-Raphson Method\n",
        "\n",
        "1. **Initial Guess:** Choose an initial guess $ x_0 $.\n",
        "2. **Compute the Function Value and Derivative:** Evaluate $ f(x_n) $ and $ f'(x_n) $.\n",
        "3. **Update the Approximation:** Compute the next approximation using $ x_{n+1} = x_n - \\frac{f(x_n)}{f'(x_n)} $.\n",
        "4. **Check for Convergence:** If $ |x_{n+1} - x_n| $ is less than a predefined tolerance, stop the iteration. Otherwise, set $ x_n = x_{n+1} $ and repeat from step 2."
      ],
      "metadata": {
        "id": "P89jvnitWSqD"
      }
    },
    {
      "cell_type": "markdown",
      "source": [
        "## Advantages\n",
        "\n",
        "- **Fast Convergence:** The method converges quickly when close to the root, especially if the function behaves well (smooth and continuous).\n",
        "- **Simple to Implement:** The algorithm is straightforward to code and requires only basic calculus (evaluation of the function and its derivative)."
      ],
      "metadata": {
        "id": "nyebg_ncWr6O"
      }
    },
    {
      "cell_type": "markdown",
      "source": [
        "## Disadvantages\n",
        "\n",
        "- **Initial Guess Dependency:** A poor initial guess can lead to slow convergence or divergence.\n",
        "- **Derivative Requirement:** The method requires the computation of the derivative of the function, which may not always be easy or possible.\n",
        "- **Not Globally Convergent:** The method is not guaranteed to converge for all functions or all initial guesses."
      ],
      "metadata": {
        "id": "75oVSePZWuF5"
      }
    },
    {
      "cell_type": "markdown",
      "source": [
        "# Calculating Implied Volatility using Newton-Raphson Method"
      ],
      "metadata": {
        "id": "oY6FoFFfYLL9"
      }
    },
    {
      "cell_type": "markdown",
      "source": [
        "## The Black-Scholes Formula\n",
        "\n",
        "The Black-Scholes formula for a call option is:\n",
        "<br>\n",
        "<br>\n",
        "$$ C = S_0 N(d_1) - K e^{-rT} N(d_2)$$\n",
        "<br>\n",
        "The Black-Scholes formula for a put option is:\n",
        "<br>\n",
        "<br>\n",
        "$$ P = K e^{-rT} N(-d_2) - S_0 N(-d_1)$$\n",
        "<br>\n",
        "where:\n",
        "<br>\n",
        "$$ d_1 = \\frac{\\ln(S_0 / K) + (r + \\sigma^2 / 2)T}{\\sigma \\sqrt{T}}$$\n",
        "<br>\n",
        "$$ d_2 = d_1 - \\sigma \\sqrt{T}$$\n",
        "<br>\n",
        "where:\n",
        "- $ C $ = Call option price\n",
        "- $ P $ = Put option price\n",
        "- $ S_0 $ = Current price of the underlying asset\n",
        "- $ K $ = Strike price\n",
        "- $ T $ = Time to expiration\n",
        "- $ r $ = Risk-free interest rate\n",
        "- $ \\sigma $ = Volatility (the parameter we need to find)\n",
        "- $ N(d) $ = Cumulative distribution function of the standard normal distribution"
      ],
      "metadata": {
        "id": "xVQnPs4Ge2hd"
      }
    },
    {
      "cell_type": "markdown",
      "source": [
        "## 2. Formulate the Problem\n",
        "\n",
        "Given the market price of the option $ C_{\\text{market}} $ or $ P_{\\text{market}} $, we need to find $ \\sigma $ such that the Black-Scholes price $ C(\\sigma) $ or $ P(\\sigma) $ matches the market price.\n",
        "<br>\n",
        "<br>\n",
        "For call options:\n",
        "\n",
        "$$ f(\\sigma) = C(\\sigma) - C_{\\text{market}}$$\n",
        "\n",
        "For put options:\n",
        "\n",
        "$$ f(\\sigma) = P(\\sigma) - P_{\\text{market}}$$\n",
        "<br>\n",
        "Our goal is to find the root of $ f(\\sigma) = 0 $."
      ],
      "metadata": {
        "id": "RfSuAxPGfJvY"
      }
    },
    {
      "cell_type": "markdown",
      "source": [
        "## 3. Newton-Raphson Iterative Formula\n",
        "\n",
        "The Newton-Raphson method updates the guess for $ \\sigma $ using:\n",
        "\n",
        "$$ \\sigma_{n+1} = \\sigma_n - \\frac{f(\\sigma_n)}{f'(\\sigma_n)}$$"
      ],
      "metadata": {
        "id": "yLPoTU3sfQiI"
      }
    },
    {
      "cell_type": "markdown",
      "source": [
        "## 4. Derivative of the Black-Scholes Formula\n",
        "\n",
        "To apply the Newton-Raphson method, we need the derivative $ f'(\\sigma) $, which is given by the Vega ($ \\nu $) of the option:\n",
        "\n",
        "$$ \\nu = S_0 \\sqrt{T} N'(d_1)$$\n",
        "<br>\n",
        "where $ N'(d_1) $ is the probability density function of the standard normal distribution evaluated at $ d_1 $."
      ],
      "metadata": {
        "id": "J4uCES0wfSkB"
      }
    },
    {
      "cell_type": "markdown",
      "source": [
        "## 5. Iterative Algorithm\n",
        "\n",
        "1. **Initial Guess:** Start with an initial guess $ \\sigma_0 $. A common choice is the historical volatility of the underlying asset.\n",
        "2. **Iterate:**\n",
        "   - Compute $ C(\\sigma_n) $ or $ P(\\sigma_n) $ using the Black-Scholes formula.\n",
        "   - Compute $ \\nu(\\sigma_n) $.\n",
        "   - Update $ \\sigma_{n+1} = \\sigma_n - \\frac{C(\\sigma_n) - C_{\\text{market}}}{\\nu(\\sigma_n)} $ or $ \\sigma_{n+1} = \\sigma_n - \\frac{P(\\sigma_n) - P_{\\text{market}}}{\\nu(\\sigma_n)} $.\n",
        "   - Repeat until $ |C(\\sigma_{n+1}) - C_{\\text{market}}| $ or $ |P(\\sigma_{n+1}) - P_{\\text{market}}| $ is within a predefined tolerance level."
      ],
      "metadata": {
        "id": "pS73CXn2fZMU"
      }
    },
    {
      "cell_type": "markdown",
      "source": [
        "## 6. Implementation"
      ],
      "metadata": {
        "id": "KUHsAwgEfkXN"
      }
    },
    {
      "cell_type": "code",
      "source": [
        "import numpy as np\n",
        "from scipy.stats import norm"
      ],
      "metadata": {
        "id": "zG9F8g3QYSeY"
      },
      "execution_count": null,
      "outputs": []
    },
    {
      "cell_type": "code",
      "source": [
        "def calc_d1(S, K, T, r, sigma):\n",
        "    return (np.log(S / K) + (r + 0.5 * sigma**2) * T) / (sigma * np.sqrt(T))\n",
        "\n",
        "def calc_d2(d1, sigma, T):\n",
        "    return d1 - sigma * np.sqrt(T)\n",
        "\n",
        "def black_scholes(S, K, T, r, sigma, opt_type):\n",
        "    assert opt_type in [\"c\", \"p\"], \"Invalid option type. Choose 'c' for 'call' or 'p' for 'put'.\"\n",
        "\n",
        "    d1 = calc_d1(S, K, T, r, sigma)\n",
        "    d2 = calc_d2(d1, sigma, T)\n",
        "\n",
        "    # Calculate the price of the option\n",
        "    if opt_type == \"c\":\n",
        "        price = S * norm.cdf(d1) - K * np.exp(-r * T) * norm.cdf(d2)\n",
        "    else:\n",
        "        price = K * np.exp(-r * T) * norm.cdf(-d2) - S * norm.cdf(-d1)\n",
        "\n",
        "    return price\n",
        "\n",
        "def calc_vega(S, K, T, r, sigma):\n",
        "    d1 = calc_d1(S, K, T, r, sigma)\n",
        "    vega = S * np.sqrt(T) * norm.pdf(d1, 0, 1)\n",
        "\n",
        "    return vega\n",
        "\n",
        "def implied_volatility(market_price, S, K, T, r, sigma_init, opt_type, tol=1e-5, max_iterations=100):\n",
        "    sigma = sigma_init\n",
        "    for i in range(max_iterations):\n",
        "        bs_price = black_scholes(S, K, T, r, sigma, opt_type)\n",
        "        v = calc_vega(S, K, T, r, sigma)\n",
        "        sigma_new = sigma - (bs_price - market_price) / v\n",
        "        if abs(sigma_new - sigma) < tol:\n",
        "            return sigma_new\n",
        "        sigma = sigma_new\n",
        "    return sigma"
      ],
      "metadata": {
        "id": "GDb1woGrYPtK"
      },
      "execution_count": null,
      "outputs": []
    },
    {
      "cell_type": "code",
      "source": [
        "# Parameters\n",
        "S = 30\n",
        "K = 28\n",
        "T = 0.5\n",
        "r = 0.025\n",
        "C_market = 5\n",
        "sigma_init = 0.2\n",
        "opt_type = \"c\""
      ],
      "metadata": {
        "id": "DDf394ZnYWR0"
      },
      "execution_count": null,
      "outputs": []
    },
    {
      "cell_type": "code",
      "source": [
        "# Calculate implied volatility\n",
        "iv = implied_volatility(C_market, S, K, T, r, sigma_init, opt_type)\n",
        "print(f\"Implied Volatility: {iv*100:.2f}\")"
      ],
      "metadata": {
        "colab": {
          "base_uri": "https://localhost:8080/"
        },
        "id": "twjBmgQdYXfJ",
        "outputId": "1d24ca54-6aca-4a06-9b14-edbe13281a98"
      },
      "execution_count": null,
      "outputs": [
        {
          "output_type": "stream",
          "name": "stdout",
          "text": [
            "Implied Volatility: 45.83\n"
          ]
        }
      ]
    },
    {
      "cell_type": "code",
      "source": [],
      "metadata": {
        "id": "3zUqrbuHgX9m"
      },
      "execution_count": null,
      "outputs": []
    }
  ]
}