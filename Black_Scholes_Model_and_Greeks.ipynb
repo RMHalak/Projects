{
  "nbformat": 4,
  "nbformat_minor": 0,
  "metadata": {
    "colab": {
      "provenance": [],
      "toc_visible": true
    },
    "kernelspec": {
      "name": "python3",
      "display_name": "Python 3"
    },
    "language_info": {
      "name": "python"
    }
  },
  "cells": [
    {
      "cell_type": "markdown",
      "source": [
        "# Black-Scholes Model\n",
        "The Black-Scholes model is a mathematical model for pricing options. This model is particularly known for the Black-Scholes formula, which provides a theoretical estimate of the price of European-style options."
      ],
      "metadata": {
        "id": "WIHOcSc49UI_"
      }
    },
    {
      "cell_type": "markdown",
      "source": [
        "## Key Concepts\n",
        "\n",
        "1. **European Options:** These options can only be exercised at expiration, unlike American options, which can be exercised at any time before expiration.\n",
        "2. **Call Option:** Gives the holder the right (but not the obligation) to buy an asset at a specified price (strike price) on the expiration date.\n",
        "3. **Put Option:** Gives the holder the right (but not the obligation) to sell an asset at a specified price on the expiration date."
      ],
      "metadata": {
        "id": "lDMGOrWW9iHY"
      }
    },
    {
      "cell_type": "markdown",
      "source": [
        "## The Black-Scholes Formula\n",
        "\n",
        "The Black-Scholes formula calculates the price of European call and put options. The key inputs to the model are:\n",
        "\n",
        "- $S$: Current price of the stock\n",
        "- $K$: Strike (or exercise) price of the option\n",
        "- $T$: Time to expiration (in years)\n",
        "- $r$: Risk-free interest rate (annualized)\n",
        "- $σ$: Volatility of the stock (annualized) - Standard deviation of returns\n",
        "- $N(\\cdot)$: Cumulative distribution function of the standard normal distribution\n"
      ],
      "metadata": {
        "id": "q6yjp03p96DP"
      }
    },
    {
      "cell_type": "markdown",
      "source": [
        "The formulas for the price of a European call option $C$ and put option $P$ are:\n",
        "\n",
        "<br>\n",
        "\n",
        "$$C = S N(d_1) - K e^{-rT} N(d_2) $$\n",
        "\n",
        "<br>\n",
        "\n",
        "$$ P = K e^{-rT} N(-d_2) - S N(-d_1) $$\n",
        "\n",
        "<br>\n",
        "\n",
        "where\n",
        "\n",
        "$$ d_1 = \\frac{\\ln(S/K) + (r + \\sigma^2 / 2)T}{\\sigma \\sqrt{T}} $$\n",
        "\n",
        "<br>\n",
        "\n",
        "$$ d_2 = d_1 - \\sigma \\sqrt{T} $$"
      ],
      "metadata": {
        "id": "0RRfJ_TY0C75"
      }
    },
    {
      "cell_type": "markdown",
      "source": [
        "## Assumptions of the Black-Scholes Model\n",
        "\n",
        "1. The stock price follows a geometric Brownian motion with constant drift and volatility.\n",
        "2. There are no dividends paid out during the life of the option.\n",
        "3. The markets are efficient (i.e., market movements cannot be predicted).\n",
        "4. No transaction costs or taxes.\n",
        "5. The risk-free rate and volatility of the stock are constant over the option's life.\n",
        "6. The option can only be exercised at expiration (European option)."
      ],
      "metadata": {
        "id": "ud1pAwiG-hQs"
      }
    },
    {
      "cell_type": "code",
      "source": [
        "import numpy as np\n",
        "from scipy.stats import norm"
      ],
      "metadata": {
        "id": "MA9lhDb_Iw89"
      },
      "execution_count": null,
      "outputs": []
    },
    {
      "cell_type": "code",
      "source": [
        "def calc_d1(S, K, T, r, sigma):\n",
        "    return (np.log(S / K) + (r + 0.5 * sigma**2) * T) / (sigma * np.sqrt(T))\n",
        "\n",
        "def calc_d2(d1, sigma, T):\n",
        "    return d1 - sigma * np.sqrt(T)\n",
        "\n",
        "def black_scholes(S, K, T, r, sigma, opt_type):\n",
        "    assert opt_type in [\"c\", \"p\"], \"Invalid option type. Choose 'c' for 'call' or 'p' for 'put'.\"\n",
        "\n",
        "    d1 = calc_d1(S, K, T, r, sigma)\n",
        "    d2 = calc_d2(d1, sigma, T)\n",
        "\n",
        "    # Calculate the price of the option\n",
        "    if opt_type == \"c\":\n",
        "        price = S * norm.cdf(d1) - K * np.exp(-r * T) * norm.cdf(d2)\n",
        "    else:\n",
        "        price = K * np.exp(-r * T) * norm.cdf(-d2) - S * norm.cdf(-d1)\n",
        "\n",
        "    return price"
      ],
      "metadata": {
        "id": "F6TPDVp29TC5"
      },
      "execution_count": null,
      "outputs": []
    },
    {
      "cell_type": "markdown",
      "source": [
        "# Black-Scholes Greeks\n",
        "\n",
        "The Black-Scholes model incorporates several key sensitivities known as the \"Greeks.\" These Greeks measure the sensitivity of the option's price to various factors."
      ],
      "metadata": {
        "id": "TNNmuOVi4YfV"
      }
    },
    {
      "cell_type": "markdown",
      "source": [
        "## Delta (Δ)\n",
        "\n",
        "Delta measures the **rate of change of the option’s price with respect to the underlying asset**.\n",
        "\n",
        "<br>\n",
        "\n",
        "$$ \\Delta = \\frac{∂ V}{∂ S} $$\n",
        "\n",
        "<br>\n",
        "\n",
        "- **Call Option**: Delta ranges from 0 to 1. A delta of 0.5 means that for every 1 unit increase in the stock price, the call option’s price will increase by 0.50.\n",
        "- **Put Option**: Delta ranges from -1 to 0. A delta of -0.5 means that for every 1 unit increase in the stock price, the put option’s price will decrease by 0.50.\n",
        "\n",
        "<br>\n",
        "\n",
        "### Formula:\n",
        "$$ \\Delta_{call} = N(d_{1}) $$\n",
        "$$ \\Delta_{put} = -N(-d_{1}) = N(d_{1}) - 1 $$"
      ],
      "metadata": {
        "id": "fh74Y1gf4s73"
      }
    },
    {
      "cell_type": "code",
      "source": [
        "def calc_delta(S, K, T, r, sigma, opt_type):\n",
        "    d1 = calc_d1(S, K, T, r, sigma)\n",
        "    if opt_type == \"c\":\n",
        "        delta = norm.cdf(d1)\n",
        "    else:\n",
        "        delta = norm.cdf(d1) - 1\n",
        "\n",
        "    return delta"
      ],
      "metadata": {
        "id": "k7QLiWx36otz"
      },
      "execution_count": null,
      "outputs": []
    },
    {
      "cell_type": "markdown",
      "source": [
        "## Gamma (Γ)\n",
        "\n",
        "Gamma measures the **rate of change of delta with respect to changes in the underlying price**.\n",
        "\n",
        "<br>\n",
        "\n",
        "$$ \\Gamma = \\frac{∂ Δ}{∂ S} = \\frac{∂^2 V}{∂ S^2} $$\n",
        "\n",
        "<br>\n",
        "\n",
        "It shows how much the delta will change as the underlying asset price changes. Gamma is highest when the option is at-the-money and decreases as the option moves further in-the-money or out-of-the-money.\n",
        "\n",
        "<br>\n",
        "\n",
        "### Formula:\n",
        "$$ \\Gamma = \\frac{N'(d1)}{S\\sigma\\sqrt{T}} $$\n",
        "\n",
        "<br>\n",
        "\n",
        "where $N'(x)$ is the probability density function of the standard normal distribution"
      ],
      "metadata": {
        "id": "x5Xxk-XB5Ol3"
      }
    },
    {
      "cell_type": "code",
      "source": [
        "def calc_gamma(S, K, T, r, sigma):\n",
        "    d1 = calc_d1(S, K, T, r, sigma)\n",
        "    gamma = norm.pdf(d1, 0, 1) / (S * sigma * np.sqrt(T))\n",
        "\n",
        "    return gamma"
      ],
      "metadata": {
        "id": "1JW3yJpr8tG0"
      },
      "execution_count": null,
      "outputs": []
    },
    {
      "cell_type": "markdown",
      "source": [
        "## Vega (ν)\n",
        "\n",
        "Vega measures the **rate of change of the option’s price with respect to the volatility of the underlying asset**. Vega is the same for both call and put options and is higher for at-the-money options.\n",
        "\n",
        "<br>\n",
        "\n",
        "$$ \\nu = \\frac{∂V}{∂σ} $$\n",
        "\n",
        "<br>\n",
        "\n",
        "### Formula:\n",
        "$$ \\nu = S \\sqrt{T} N'(d_{1}) $$"
      ],
      "metadata": {
        "id": "lsDCovRx50JB"
      }
    },
    {
      "cell_type": "code",
      "source": [
        "def calc_vega(S, K, T, r, sigma):\n",
        "    d1 = calc_d1(S, K, T, r, sigma)\n",
        "    vega = S * np.sqrt(T) * norm.pdf(d1, 0, 1)\n",
        "\n",
        "    vega = vega / 100 # transform the measure to 1% change in volatility\n",
        "\n",
        "    return vega"
      ],
      "metadata": {
        "id": "Lb8d8LVE-t_I"
      },
      "execution_count": null,
      "outputs": []
    },
    {
      "cell_type": "markdown",
      "source": [
        "## Theta (Θ)\n",
        "\n",
        "Theta measures the **rate of change of the option’s price with respect to time**, also known as time decay. It represents the amount by which the option’s price decreases as time to expiration decreases.\n",
        "\n",
        "- **Call and Put Options**: Theta is usually negative, indicating that the option loses value as time passes.\n",
        "\n",
        "$$ Θ = -\\frac{∂V}{∂T}$$\n",
        "\n",
        "<br>\n",
        "\n",
        "### Formula:\n",
        "$$ \\Theta_{call} = -\\frac{S N'(d_{1}) \\sigma}{2\\sqrt{T}} - r K e^{-rT} N(d_{2}) $$\n",
        "$$ \\Theta_{put} = -\\frac{S N'(d_{1}) \\sigma}{2\\sqrt{T}} + r K e^{-rT} N(-d_{2}) $$"
      ],
      "metadata": {
        "id": "QKsFHuvx5q8o"
      }
    },
    {
      "cell_type": "code",
      "source": [
        "def calc_theta(S, K, T, r, sigma, opt_type):\n",
        "    d1 = calc_d1(S, K, T, r, sigma)\n",
        "    d2 = calc_d2(d1, sigma, T)\n",
        "\n",
        "    if opt_type == \"c\":\n",
        "        theta = -S * norm.pdf(d1, 0, 1) * sigma / (2 * np.sqrt(T)) - r * K * np.exp(-r * T) * norm.cdf(d2)\n",
        "    else:\n",
        "        theta = -S * norm.pdf(d1, 0, 1) * sigma / (2 * np.sqrt(T)) + r * K * np.exp(-r * T) * norm.cdf(-d2)\n",
        "\n",
        "    theta = theta / 365 # convert to days\n",
        "\n",
        "    return theta"
      ],
      "metadata": {
        "id": "AoS3v56vAu72"
      },
      "execution_count": null,
      "outputs": []
    },
    {
      "cell_type": "markdown",
      "source": [
        "## Rho (ρ)\n",
        "\n",
        "Rho measures the ** rate of change of the option’s price with respect to the risk-free interest rate**.\n",
        "\n",
        "<br>\n",
        "\n",
        "$$ ρ = \\frac{∂V}{∂r}$$\n",
        "\n",
        "<br>\n",
        "\n",
        "- **Call Option**: Rho is positive, meaning that an increase in interest rates will increase the price of a call option.\n",
        "- **Put Option**: Rho is negative, meaning that an increase in interest rates will decrease the price of a put option.\n",
        "\n",
        "<br>\n",
        "\n",
        "### Formula:\n",
        "$$ \\rho_{call} = K T e^{-rT} N(d_{2}) $$\n",
        "$$ \\rho_{put} = -K T e^{-rT} N(-d_{2}) $$"
      ],
      "metadata": {
        "id": "fS_DI5xy6GKB"
      }
    },
    {
      "cell_type": "code",
      "source": [
        "def calc_rho(S, K, T, r, sigma, opt_type):\n",
        "    d2 = calc_d2(calc_d1(S, K, T, r, sigma), sigma, T)\n",
        "\n",
        "    if opt_type == \"c\":\n",
        "        rho = K * T * np.exp(-r * T) * norm.cdf(d2)\n",
        "    else:\n",
        "        rho = -K * T * np.exp(-r * T) * norm.cdf(-d2)\n",
        "\n",
        "    rho = rho / 100 # transform the measure to 1% change in interest rate\n",
        "\n",
        "    return rho"
      ],
      "metadata": {
        "id": "Rkzkaf6lBXuI"
      },
      "execution_count": null,
      "outputs": []
    },
    {
      "cell_type": "markdown",
      "source": [
        "# Example & Sanity Check"
      ],
      "metadata": {
        "id": "241ob4m4H-g0"
      }
    },
    {
      "cell_type": "code",
      "source": [
        "!pip install py_vollib"
      ],
      "metadata": {
        "colab": {
          "base_uri": "https://localhost:8080/"
        },
        "id": "-fiuQX3LHi96",
        "outputId": "84c64cb8-0e79-4dbb-bd6c-1cf80be8d7fe"
      },
      "execution_count": null,
      "outputs": [
        {
          "output_type": "stream",
          "name": "stdout",
          "text": [
            "Requirement already satisfied: py_vollib in /usr/local/lib/python3.10/dist-packages (1.0.1)\n",
            "Requirement already satisfied: py-lets-be-rational in /usr/local/lib/python3.10/dist-packages (from py_vollib) (1.0.1)\n",
            "Requirement already satisfied: simplejson in /usr/local/lib/python3.10/dist-packages (from py_vollib) (3.19.2)\n",
            "Requirement already satisfied: numpy in /usr/local/lib/python3.10/dist-packages (from py_vollib) (1.25.2)\n",
            "Requirement already satisfied: pandas in /usr/local/lib/python3.10/dist-packages (from py_vollib) (2.0.3)\n",
            "Requirement already satisfied: scipy in /usr/local/lib/python3.10/dist-packages (from py_vollib) (1.11.4)\n",
            "Requirement already satisfied: python-dateutil>=2.8.2 in /usr/local/lib/python3.10/dist-packages (from pandas->py_vollib) (2.8.2)\n",
            "Requirement already satisfied: pytz>=2020.1 in /usr/local/lib/python3.10/dist-packages (from pandas->py_vollib) (2023.4)\n",
            "Requirement already satisfied: tzdata>=2022.1 in /usr/local/lib/python3.10/dist-packages (from pandas->py_vollib) (2024.1)\n",
            "Requirement already satisfied: six>=1.5 in /usr/local/lib/python3.10/dist-packages (from python-dateutil>=2.8.2->pandas->py_vollib) (1.16.0)\n"
          ]
        }
      ]
    },
    {
      "cell_type": "code",
      "source": [
        "from py_vollib.black_scholes import black_scholes as bs\n",
        "import py_vollib.black_scholes.greeks.analytical as greeks"
      ],
      "metadata": {
        "colab": {
          "base_uri": "https://localhost:8080/"
        },
        "id": "iAroACL6HdS4",
        "outputId": "2bb66914-afe7-4d9c-df52-617ea19b3545"
      },
      "execution_count": null,
      "outputs": [
        {
          "output_type": "stream",
          "name": "stderr",
          "text": [
            "/usr/local/lib/python3.10/dist-packages/py_lets_be_rational/numba_helper.py:10: NumbaDeprecationWarning: The 'nopython' keyword argument was not supplied to the 'numba.jit' decorator. The implicit default value for this argument is currently False, but it will be changed to True in Numba 0.59.0. See https://numba.readthedocs.io/en/stable/reference/deprecation.html#deprecation-of-object-mode-fall-back-behaviour-when-using-jit for details.\n",
            "  return jit(*jit_args, **jit_kwargs)(fun)\n"
          ]
        }
      ]
    },
    {
      "cell_type": "code",
      "source": [
        "# Example parameters\n",
        "S = 100  # Current stock price\n",
        "K = 100  # Strike price\n",
        "T = 1    # Time to expiration in years\n",
        "r = 0.05  # Risk-free interest rate\n",
        "sigma = 0.2  # Volatility\n",
        "opt_type = \"c\""
      ],
      "metadata": {
        "id": "tSpxYlFFI9nG"
      },
      "execution_count": null,
      "outputs": []
    },
    {
      "cell_type": "code",
      "source": [
        "print(\"Option Price: \", [round(x,3) for x in [black_scholes(S, K, T, r, sigma, opt_type), bs(\"c\", S, K, T, r, sigma)]])\n",
        "print(\"Delta: \", [round(x,3) for x in [calc_delta(S, K, T, r, sigma, opt_type), greeks.delta(opt_type, S, K, T, r, sigma)]])\n",
        "print(\"Gamma: \", [round(x,3) for x in [calc_gamma(S, K, T, r, sigma), greeks.gamma(opt_type, S, K, T, r, sigma)]])\n",
        "print(\"Vega: \", [round(x,3) for x in [calc_vega(S, K, T, r, sigma), greeks.vega(opt_type, S, K, T, r, sigma)]])\n",
        "print(\"Theta: \", [round(x,3) for x in [calc_theta(S, K, T, r, sigma, opt_type), greeks.theta(opt_type, S, K, T, r, sigma)]])\n",
        "print(\"Rho: \", [round(x,3) for x in [calc_rho(S, K, T, r, sigma, opt_type), greeks.rho(opt_type, S, K, T, r, sigma)]])"
      ],
      "metadata": {
        "colab": {
          "base_uri": "https://localhost:8080/"
        },
        "id": "K_b_7cP3F2JI",
        "outputId": "8cece71c-0b78-4ba5-a988-cbda65ac28e7"
      },
      "execution_count": null,
      "outputs": [
        {
          "output_type": "stream",
          "name": "stdout",
          "text": [
            "Option Price:  [10.451, 10.451]\n",
            "Delta:  [0.637, 0.637]\n",
            "Gamma:  [0.019, 0.019]\n",
            "Vega:  [0.375, 0.375]\n",
            "Theta:  [-0.018, -0.018]\n",
            "Rho:  [0.532, 0.532]\n"
          ]
        }
      ]
    },
    {
      "cell_type": "markdown",
      "source": [
        "# Side note: Cumulative Distribution Function (CDF)\n",
        "The CDF is a fundamental concept in probability theory and statistics that describes the probability that a random variable takes on a value less than or equal to a specified value. For a random variable $X$, the CDF, denoted as $F(x)$, is defined as:\n",
        "\n",
        "$$ F(x) = P(X \\leq x) $$\n",
        "\n",
        "where $P$ denotes the probability."
      ],
      "metadata": {
        "id": "DdIDmWnZ2IFP"
      }
    },
    {
      "cell_type": "markdown",
      "source": [
        "## Properties of the CDF\n",
        "\n",
        "1. **Non-decreasing**: The CDF is a non-decreasing function. This means $F(x_1) \\leq F(x_2) $ for $ x_1 < x_2 $.\n",
        "2. **Limits**:\n",
        "   - As $ x $ approaches negative infinity, $ F(x) $ approaches 0.\n",
        "   - As $ x $ approaches positive infinity, $ F(x) $ approaches 1.\n",
        "3. **Right-continuous**: The CDF is right-continuous, meaning there are no jumps when approaching from the right.\n"
      ],
      "metadata": {
        "id": "EK2wCDxn2au8"
      }
    },
    {
      "cell_type": "markdown",
      "source": [
        "## CDF for Discrete Random Variables\n",
        "\n",
        "For a discrete random variable $ X $ with possible values $ x_1, x_2, \\ldots $ and corresponding probabilities $ p_1, p_2, \\ldots $:\n",
        "\n",
        "<br>\n",
        "\n",
        "$$ F(x) = P(X \\leq x) = \\sum_{x_i \\leq x} P(X = x_i) = \\sum_{x_i \\leq x} p_i $$\n",
        "\n",
        "<br>\n",
        "\n",
        "For example: Consider a discrete random variable $ X $ that can take on values 1, 2, and 3 with probabilities $ P(X=1) = 0.2 $, $ P(X=2) = 0.5 $, and $ P(X=3) = 0.3 $. The CDF $ F(x) $ is:\n",
        "\n",
        "<br>\n",
        "\n",
        "- For $ x < 1 $, $ F(x) = 0 $\n",
        "- For $ 1 \\leq x < 2 $, $ F(x) = 0.2 $\n",
        "- For $ 2 \\leq x < 3 $, $ F(x) = 0.7 $\n",
        "- For $ x \\geq 3 $, $ F(x) = 1.0 $\n"
      ],
      "metadata": {
        "id": "XYF1ACyQ2rNp"
      }
    },
    {
      "cell_type": "markdown",
      "source": [
        "## CDF for Continuous Random Variables\n",
        "\n",
        "For a continuous random variable $ X $ with probability density function (PDF) $ f(x) $:\n",
        "\n",
        "<br>\n",
        "\n",
        "$$ F(x) = P(X \\leq x) = \\int_{-\\infty}^x f(t) \\, dt $$\n",
        "\n",
        "<br>\n",
        "For example: Consider a continuous random variable $ X $ with a PDF $ f(x) = e^{-x} $ for $ x \\geq 0 $ (an exponential distribution with parameter $ \\lambda = 1 $). The CDF $ F(x) $ is:\n",
        "\n",
        "$$ F(x) = \\int_{-\\infty}^x e^{-t} \\, dt = \\left\\{\n",
        "\\begin{array}{ll}\n",
        "0 & \\text{for } x < 0 \\\\\n",
        "1 - e^{-x} & \\text{for } x \\geq 0\n",
        "\\end{array}\n",
        "\\right. $$"
      ],
      "metadata": {
        "id": "kP933M_L3TPV"
      }
    }
  ]
}